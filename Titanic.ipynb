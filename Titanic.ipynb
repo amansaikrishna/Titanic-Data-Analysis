{
 "cells": [
  {
   "cell_type": "markdown",
   "id": "99942db4",
   "metadata": {
    "papermill": {
     "duration": 0.015303,
     "end_time": "2022-08-03T17:57:14.724194",
     "exception": false,
     "start_time": "2022-08-03T17:57:14.708891",
     "status": "completed"
    },
    "tags": []
   },
   "source": [
    "# Titanic Data Analysis"
   ]
  },
  {
   "cell_type": "code",
   "execution_count": 1,
   "id": "b330f791",
   "metadata": {
    "execution": {
     "iopub.execute_input": "2022-08-03T17:57:14.754579Z",
     "iopub.status.busy": "2022-08-03T17:57:14.753699Z",
     "iopub.status.idle": "2022-08-03T17:57:14.770480Z",
     "shell.execute_reply": "2022-08-03T17:57:14.769625Z"
    },
    "papermill": {
     "duration": 0.035235,
     "end_time": "2022-08-03T17:57:14.773434",
     "exception": false,
     "start_time": "2022-08-03T17:57:14.738199",
     "status": "completed"
    },
    "tags": []
   },
   "outputs": [
    {
     "name": "stdout",
     "output_type": "stream",
     "text": [
      "/kaggle/input/titanic/train.csv\n",
      "/kaggle/input/titanic/test.csv\n",
      "/kaggle/input/titanic/gender_submission.csv\n"
     ]
    }
   ],
   "source": [
    "# This Python 3 environment comes with many helpful analytics libraries installed\n",
    "# It is defined by the kaggle/python Docker image: https://github.com/kaggle/docker-python\n",
    "# For example, here's several helpful packages to load\n",
    "\n",
    "import numpy as np # linear algebra\n",
    "import pandas as pd # data processing, CSV file I/O (e.g. pd.read_csv)\n",
    "\n",
    "# Input data files are available in the read-only \"../input/\" directory\n",
    "# For example, running this (by clicking run or pressing Shift+Enter) will list all files under the input directory\n",
    "\n",
    "import os\n",
    "for dirname, _, filenames in os.walk('/kaggle/input'):\n",
    "    for filename in filenames:\n",
    "        print(os.path.join(dirname, filename))\n",
    "\n",
    "# You can write up to 20GB to the current directory (/kaggle/working/) that gets preserved as output when you create a version using \"Save & Run All\" \n",
    "# You can also write temporary files to /kaggle/temp/, but they won't be saved outside of the current session"
   ]
  },
  {
   "cell_type": "markdown",
   "id": "cd53e13a",
   "metadata": {
    "papermill": {
     "duration": 0.013497,
     "end_time": "2022-08-03T17:57:14.803063",
     "exception": false,
     "start_time": "2022-08-03T17:57:14.789566",
     "status": "completed"
    },
    "tags": []
   },
   "source": [
    "### Importing required libraries"
   ]
  },
  {
   "cell_type": "code",
   "execution_count": 2,
   "id": "08a784b7",
   "metadata": {
    "execution": {
     "iopub.execute_input": "2022-08-03T17:57:14.832864Z",
     "iopub.status.busy": "2022-08-03T17:57:14.831957Z",
     "iopub.status.idle": "2022-08-03T17:57:16.051999Z",
     "shell.execute_reply": "2022-08-03T17:57:16.050745Z"
    },
    "papermill": {
     "duration": 1.238634,
     "end_time": "2022-08-03T17:57:16.055037",
     "exception": false,
     "start_time": "2022-08-03T17:57:14.816403",
     "status": "completed"
    },
    "tags": []
   },
   "outputs": [],
   "source": [
    "import matplotlib.pyplot as plt\n",
    "import seaborn as sns"
   ]
  },
  {
   "cell_type": "markdown",
   "id": "7428b4e4",
   "metadata": {
    "papermill": {
     "duration": 0.013403,
     "end_time": "2022-08-03T17:57:16.082409",
     "exception": false,
     "start_time": "2022-08-03T17:57:16.069006",
     "status": "completed"
    },
    "tags": []
   },
   "source": [
    "### Reading the dataset"
   ]
  },
  {
   "cell_type": "code",
   "execution_count": 3,
   "id": "46b072d2",
   "metadata": {
    "execution": {
     "iopub.execute_input": "2022-08-03T17:57:16.112576Z",
     "iopub.status.busy": "2022-08-03T17:57:16.111400Z",
     "iopub.status.idle": "2022-08-03T17:57:16.155048Z",
     "shell.execute_reply": "2022-08-03T17:57:16.154099Z"
    },
    "papermill": {
     "duration": 0.061336,
     "end_time": "2022-08-03T17:57:16.157517",
     "exception": false,
     "start_time": "2022-08-03T17:57:16.096181",
     "status": "completed"
    },
    "tags": []
   },
   "outputs": [
    {
     "data": {
      "text/html": [
       "<div>\n",
       "<style scoped>\n",
       "    .dataframe tbody tr th:only-of-type {\n",
       "        vertical-align: middle;\n",
       "    }\n",
       "\n",
       "    .dataframe tbody tr th {\n",
       "        vertical-align: top;\n",
       "    }\n",
       "\n",
       "    .dataframe thead th {\n",
       "        text-align: right;\n",
       "    }\n",
       "</style>\n",
       "<table border=\"1\" class=\"dataframe\">\n",
       "  <thead>\n",
       "    <tr style=\"text-align: right;\">\n",
       "      <th></th>\n",
       "      <th>PassengerId</th>\n",
       "      <th>Survived</th>\n",
       "      <th>Pclass</th>\n",
       "      <th>Name</th>\n",
       "      <th>Sex</th>\n",
       "      <th>Age</th>\n",
       "      <th>SibSp</th>\n",
       "      <th>Parch</th>\n",
       "      <th>Ticket</th>\n",
       "      <th>Fare</th>\n",
       "      <th>Cabin</th>\n",
       "      <th>Embarked</th>\n",
       "    </tr>\n",
       "  </thead>\n",
       "  <tbody>\n",
       "    <tr>\n",
       "      <th>0</th>\n",
       "      <td>1</td>\n",
       "      <td>0</td>\n",
       "      <td>3</td>\n",
       "      <td>Braund, Mr. Owen Harris</td>\n",
       "      <td>male</td>\n",
       "      <td>22.0</td>\n",
       "      <td>1</td>\n",
       "      <td>0</td>\n",
       "      <td>A/5 21171</td>\n",
       "      <td>7.2500</td>\n",
       "      <td>NaN</td>\n",
       "      <td>S</td>\n",
       "    </tr>\n",
       "    <tr>\n",
       "      <th>1</th>\n",
       "      <td>2</td>\n",
       "      <td>1</td>\n",
       "      <td>1</td>\n",
       "      <td>Cumings, Mrs. John Bradley (Florence Briggs Th...</td>\n",
       "      <td>female</td>\n",
       "      <td>38.0</td>\n",
       "      <td>1</td>\n",
       "      <td>0</td>\n",
       "      <td>PC 17599</td>\n",
       "      <td>71.2833</td>\n",
       "      <td>C85</td>\n",
       "      <td>C</td>\n",
       "    </tr>\n",
       "    <tr>\n",
       "      <th>2</th>\n",
       "      <td>3</td>\n",
       "      <td>1</td>\n",
       "      <td>3</td>\n",
       "      <td>Heikkinen, Miss. Laina</td>\n",
       "      <td>female</td>\n",
       "      <td>26.0</td>\n",
       "      <td>0</td>\n",
       "      <td>0</td>\n",
       "      <td>STON/O2. 3101282</td>\n",
       "      <td>7.9250</td>\n",
       "      <td>NaN</td>\n",
       "      <td>S</td>\n",
       "    </tr>\n",
       "    <tr>\n",
       "      <th>3</th>\n",
       "      <td>4</td>\n",
       "      <td>1</td>\n",
       "      <td>1</td>\n",
       "      <td>Futrelle, Mrs. Jacques Heath (Lily May Peel)</td>\n",
       "      <td>female</td>\n",
       "      <td>35.0</td>\n",
       "      <td>1</td>\n",
       "      <td>0</td>\n",
       "      <td>113803</td>\n",
       "      <td>53.1000</td>\n",
       "      <td>C123</td>\n",
       "      <td>S</td>\n",
       "    </tr>\n",
       "    <tr>\n",
       "      <th>4</th>\n",
       "      <td>5</td>\n",
       "      <td>0</td>\n",
       "      <td>3</td>\n",
       "      <td>Allen, Mr. William Henry</td>\n",
       "      <td>male</td>\n",
       "      <td>35.0</td>\n",
       "      <td>0</td>\n",
       "      <td>0</td>\n",
       "      <td>373450</td>\n",
       "      <td>8.0500</td>\n",
       "      <td>NaN</td>\n",
       "      <td>S</td>\n",
       "    </tr>\n",
       "  </tbody>\n",
       "</table>\n",
       "</div>"
      ],
      "text/plain": [
       "   PassengerId  Survived  Pclass  \\\n",
       "0            1         0       3   \n",
       "1            2         1       1   \n",
       "2            3         1       3   \n",
       "3            4         1       1   \n",
       "4            5         0       3   \n",
       "\n",
       "                                                Name     Sex   Age  SibSp  \\\n",
       "0                            Braund, Mr. Owen Harris    male  22.0      1   \n",
       "1  Cumings, Mrs. John Bradley (Florence Briggs Th...  female  38.0      1   \n",
       "2                             Heikkinen, Miss. Laina  female  26.0      0   \n",
       "3       Futrelle, Mrs. Jacques Heath (Lily May Peel)  female  35.0      1   \n",
       "4                           Allen, Mr. William Henry    male  35.0      0   \n",
       "\n",
       "   Parch            Ticket     Fare Cabin Embarked  \n",
       "0      0         A/5 21171   7.2500   NaN        S  \n",
       "1      0          PC 17599  71.2833   C85        C  \n",
       "2      0  STON/O2. 3101282   7.9250   NaN        S  \n",
       "3      0            113803  53.1000  C123        S  \n",
       "4      0            373450   8.0500   NaN        S  "
      ]
     },
     "execution_count": 3,
     "metadata": {},
     "output_type": "execute_result"
    }
   ],
   "source": [
    "titanic_df=pd.read_csv('../input/titanic/train.csv')\n",
    "titanic_df.head()"
   ]
  },
  {
   "cell_type": "markdown",
   "id": "bb8c0ab3",
   "metadata": {
    "papermill": {
     "duration": 0.013626,
     "end_time": "2022-08-03T17:57:16.185411",
     "exception": false,
     "start_time": "2022-08-03T17:57:16.171785",
     "status": "completed"
    },
    "tags": []
   },
   "source": [
    "### Exploring the data"
   ]
  },
  {
   "cell_type": "markdown",
   "id": "0b9842ab",
   "metadata": {
    "papermill": {
     "duration": 0.013539,
     "end_time": "2022-08-03T17:57:16.212964",
     "exception": false,
     "start_time": "2022-08-03T17:57:16.199425",
     "status": "completed"
    },
    "tags": []
   },
   "source": [
    "Missing data"
   ]
  },
  {
   "cell_type": "code",
   "execution_count": 4,
   "id": "d4259e33",
   "metadata": {
    "execution": {
     "iopub.execute_input": "2022-08-03T17:57:16.243639Z",
     "iopub.status.busy": "2022-08-03T17:57:16.242198Z",
     "iopub.status.idle": "2022-08-03T17:57:16.253588Z",
     "shell.execute_reply": "2022-08-03T17:57:16.252414Z"
    },
    "papermill": {
     "duration": 0.029097,
     "end_time": "2022-08-03T17:57:16.255932",
     "exception": false,
     "start_time": "2022-08-03T17:57:16.226835",
     "status": "completed"
    },
    "tags": []
   },
   "outputs": [
    {
     "data": {
      "text/plain": [
       "PassengerId      0\n",
       "Survived         0\n",
       "Pclass           0\n",
       "Name             0\n",
       "Sex              0\n",
       "Age            177\n",
       "SibSp            0\n",
       "Parch            0\n",
       "Ticket           0\n",
       "Fare             0\n",
       "Cabin          687\n",
       "Embarked         2\n",
       "dtype: int64"
      ]
     },
     "execution_count": 4,
     "metadata": {},
     "output_type": "execute_result"
    }
   ],
   "source": [
    "titanic_df.isna().sum()"
   ]
  },
  {
   "cell_type": "code",
   "execution_count": 5,
   "id": "f3bd1ee1",
   "metadata": {
    "execution": {
     "iopub.execute_input": "2022-08-03T17:57:16.286008Z",
     "iopub.status.busy": "2022-08-03T17:57:16.285096Z",
     "iopub.status.idle": "2022-08-03T17:57:16.534698Z",
     "shell.execute_reply": "2022-08-03T17:57:16.533401Z"
    },
    "papermill": {
     "duration": 0.267507,
     "end_time": "2022-08-03T17:57:16.537429",
     "exception": false,
     "start_time": "2022-08-03T17:57:16.269922",
     "status": "completed"
    },
    "tags": []
   },
   "outputs": [
    {
     "data": {
      "text/plain": [
       "<AxesSubplot:>"
      ]
     },
     "execution_count": 5,
     "metadata": {},
     "output_type": "execute_result"
    },
    {
     "data": {
      "image/png": "[encoded data removed]",
      "text/plain": [
       "<Figure size 432x288 with 1 Axes>"
      ]
     },
     "metadata": {
      "needs_background": "light"
     },
     "output_type": "display_data"
    }
   ],
   "source": [
    "# Heatmap to plot null values in the dataset\n",
    "sns.heatmap(titanic_df.isna(),yticklabels=False,cbar=False,cmap='viridis')"
   ]
  },
  {
   "cell_type": "markdown",
   "id": "7f289e20",
   "metadata": {
    "papermill": {
     "duration": 0.014301,
     "end_time": "2022-08-03T17:57:16.566529",
     "exception": false,
     "start_time": "2022-08-03T17:57:16.552228",
     "status": "completed"
    },
    "tags": []
   },
   "source": [
    "Roughly 20 percent of the Age data is missing.We can fill the missing data in the Age column through inbuilt functions or with mean or median or else with some form of imputation."
   ]
  },
  {
   "cell_type": "markdown",
   "id": "c7afafd7",
   "metadata": {
    "papermill": {
     "duration": 0.013864,
     "end_time": "2022-08-03T17:57:16.594841",
     "exception": false,
     "start_time": "2022-08-03T17:57:16.580977",
     "status": "completed"
    },
    "tags": []
   },
   "source": [
    "Cabin column has much of its data missing.We will drop that column."
   ]
  },
  {
   "cell_type": "markdown",
   "id": "2880f92f",
   "metadata": {
    "papermill": {
     "duration": 0.015663,
     "end_time": "2022-08-03T17:57:16.624697",
     "exception": false,
     "start_time": "2022-08-03T17:57:16.609034",
     "status": "completed"
    },
    "tags": []
   },
   "source": [
    "Let's visualise the data and see some relations as well as some distributions."
   ]
  },
  {
   "cell_type": "code",
   "execution_count": 6,
   "id": "4238a443",
   "metadata": {
    "execution": {
     "iopub.execute_input": "2022-08-03T17:57:16.656621Z",
     "iopub.status.busy": "2022-08-03T17:57:16.656060Z",
     "iopub.status.idle": "2022-08-03T17:57:16.851999Z",
     "shell.execute_reply": "2022-08-03T17:57:16.850581Z"
    },
    "papermill": {
     "duration": 0.215729,
     "end_time": "2022-08-03T17:57:16.854790",
     "exception": false,
     "start_time": "2022-08-03T17:57:16.639061",
     "status": "completed"
    },
    "tags": []
   },
   "outputs": [
    {
     "data": {
      "text/plain": [
       "<AxesSubplot:xlabel='Survived', ylabel='count'>"
      ]
     },
     "execution_count": 6,
     "metadata": {},
     "output_type": "execute_result"
    },
    {
     "data": {
      "image/png": "[encoded data removed]",
      "text/plain": [
       "<Figure size 432x288 with 1 Axes>"
      ]
     },
     "metadata": {},
     "output_type": "display_data"
    }
   ],
   "source": [
    "sns.set_style('whitegrid')\n",
    "sns.countplot(x='Survived',data=titanic_df)"
   ]
  },
  {
   "cell_type": "code",
   "execution_count": 7,
   "id": "9f4e7a03",
   "metadata": {
    "execution": {
     "iopub.execute_input": "2022-08-03T17:57:16.886561Z",
     "iopub.status.busy": "2022-08-03T17:57:16.886077Z",
     "iopub.status.idle": "2022-08-03T17:57:17.097861Z",
     "shell.execute_reply": "2022-08-03T17:57:17.096684Z"
    },
    "papermill": {
     "duration": 0.230458,
     "end_time": "2022-08-03T17:57:17.100560",
     "exception": false,
     "start_time": "2022-08-03T17:57:16.870102",
     "status": "completed"
    },
    "tags": []
   },
   "outputs": [
    {
     "data": {
      "text/plain": [
       "<AxesSubplot:xlabel='Survived', ylabel='count'>"
      ]
     },
     "execution_count": 7,
     "metadata": {},
     "output_type": "execute_result"
    },
    {
     "data": {
      "image/png": "[encoded data removed]",
      "text/plain": [
       "<Figure size 432x288 with 1 Axes>"
      ]
     },
     "metadata": {},
     "output_type": "display_data"
    }
   ],
   "source": [
    "sns.set_style('whitegrid')\n",
    "sns.countplot(x='Survived',hue='Sex',data=titanic_df,palette='RdBu_r')"
   ]
  },
  {
   "cell_type": "code",
   "execution_count": 8,
   "id": "91ad39c1",
   "metadata": {
    "execution": {
     "iopub.execute_input": "2022-08-03T17:57:17.133217Z",
     "iopub.status.busy": "2022-08-03T17:57:17.132029Z",
     "iopub.status.idle": "2022-08-03T17:57:17.360011Z",
     "shell.execute_reply": "2022-08-03T17:57:17.358866Z"
    },
    "papermill": {
     "duration": 0.246912,
     "end_time": "2022-08-03T17:57:17.362443",
     "exception": false,
     "start_time": "2022-08-03T17:57:17.115531",
     "status": "completed"
    },
    "tags": []
   },
   "outputs": [
    {
     "data": {
      "text/plain": [
       "<AxesSubplot:xlabel='Survived', ylabel='count'>"
      ]
     },
     "execution_count": 8,
     "metadata": {},
     "output_type": "execute_result"
    },
    {
     "data": {
      "image/png": "[encoded data removed]",
      "text/plain": [
       "<Figure size 432x288 with 1 Axes>"
      ]
     },
     "metadata": {},
     "output_type": "display_data"
    }
   ],
   "source": [
    "sns.set_style('whitegrid')\n",
    "sns.countplot(x='Survived',hue='Pclass',data=titanic_df,palette='rainbow')"
   ]
  },
  {
   "cell_type": "code",
   "execution_count": 9,
   "id": "e8ba659e",
   "metadata": {
    "execution": {
     "iopub.execute_input": "2022-08-03T17:57:17.394875Z",
     "iopub.status.busy": "2022-08-03T17:57:17.394074Z",
     "iopub.status.idle": "2022-08-03T17:57:17.717270Z",
     "shell.execute_reply": "2022-08-03T17:57:17.716078Z"
    },
    "papermill": {
     "duration": 0.342259,
     "end_time": "2022-08-03T17:57:17.719763",
     "exception": false,
     "start_time": "2022-08-03T17:57:17.377504",
     "status": "completed"
    },
    "tags": []
   },
   "outputs": [
    {
     "name": "stderr",
     "output_type": "stream",
     "text": [
      "/opt/conda/lib/python3.7/site-packages/seaborn/distributions.py:2619: FutureWarning: `distplot` is a deprecated function and will be removed in a future version. Please adapt your code to use either `displot` (a figure-level function with similar flexibility) or `histplot` (an axes-level function for histograms).\n",
      "  warnings.warn(msg, FutureWarning)\n"
     ]
    },
    {
     "data": {
      "text/plain": [
       "<AxesSubplot:xlabel='Age'>"
      ]
     },
     "execution_count": 9,
     "metadata": {},
     "output_type": "execute_result"
    },
    {
     "data": {
      "image/png": "[encoded data removed]",
      "text/plain": [
       "<Figure size 432x288 with 1 Axes>"
      ]
     },
     "metadata": {},
     "output_type": "display_data"
    }
   ],
   "source": [
    "sns.distplot(titanic_df['Age'].dropna(),kde=False,color='darkred',bins=40)"
   ]
  },
  {
   "cell_type": "code",
   "execution_count": 10,
   "id": "2564e41b",
   "metadata": {
    "execution": {
     "iopub.execute_input": "2022-08-03T17:57:17.753644Z",
     "iopub.status.busy": "2022-08-03T17:57:17.752937Z",
     "iopub.status.idle": "2022-08-03T17:57:17.981031Z",
     "shell.execute_reply": "2022-08-03T17:57:17.979849Z"
    },
    "papermill": {
     "duration": 0.248232,
     "end_time": "2022-08-03T17:57:17.983739",
     "exception": false,
     "start_time": "2022-08-03T17:57:17.735507",
     "status": "completed"
    },
    "tags": []
   },
   "outputs": [
    {
     "data": {
      "text/plain": [
       "<AxesSubplot:xlabel='SibSp', ylabel='count'>"
      ]
     },
     "execution_count": 10,
     "metadata": {},
     "output_type": "execute_result"
    },
    {
     "data": {
      "image/png": "[encoded data removed]",
      "text/plain": [
       "<Figure size 432x288 with 1 Axes>"
      ]
     },
     "metadata": {},
     "output_type": "display_data"
    }
   ],
   "source": [
    "sns.countplot(x='SibSp',data=titanic_df)"
   ]
  },
  {
   "cell_type": "code",
   "execution_count": 11,
   "id": "e216c7ad",
   "metadata": {
    "execution": {
     "iopub.execute_input": "2022-08-03T17:57:18.018007Z",
     "iopub.status.busy": "2022-08-03T17:57:18.017534Z",
     "iopub.status.idle": "2022-08-03T17:57:18.311957Z",
     "shell.execute_reply": "2022-08-03T17:57:18.310478Z"
    },
    "papermill": {
     "duration": 0.314682,
     "end_time": "2022-08-03T17:57:18.314884",
     "exception": false,
     "start_time": "2022-08-03T17:57:18.000202",
     "status": "completed"
    },
    "tags": []
   },
   "outputs": [
    {
     "data": {
      "text/plain": [
       "<AxesSubplot:xlabel='Fare', ylabel='Count'>"
      ]
     },
     "execution_count": 11,
     "metadata": {},
     "output_type": "execute_result"
    },
    {
     "data": {
      "image/png": "[encoded data removed]",
      "text/plain": [
       "<Figure size 432x288 with 1 Axes>"
      ]
     },
     "metadata": {},
     "output_type": "display_data"
    }
   ],
   "source": [
    "sns.histplot(titanic_df['Fare'],bins=40,color='blue')"
   ]
  },
  {
   "cell_type": "markdown",
   "id": "3d0e83fc",
   "metadata": {
    "papermill": {
     "duration": 0.015829,
     "end_time": "2022-08-03T17:57:18.347287",
     "exception": false,
     "start_time": "2022-08-03T17:57:18.331458",
     "status": "completed"
    },
    "tags": []
   },
   "source": [
    "## Data Cleaning"
   ]
  },
  {
   "cell_type": "code",
   "execution_count": 12,
   "id": "b0605acd",
   "metadata": {
    "execution": {
     "iopub.execute_input": "2022-08-03T17:57:18.382795Z",
     "iopub.status.busy": "2022-08-03T17:57:18.382059Z",
     "iopub.status.idle": "2022-08-03T17:57:18.399911Z",
     "shell.execute_reply": "2022-08-03T17:57:18.398670Z"
    },
    "papermill": {
     "duration": 0.038566,
     "end_time": "2022-08-03T17:57:18.402345",
     "exception": false,
     "start_time": "2022-08-03T17:57:18.363779",
     "status": "completed"
    },
    "tags": []
   },
   "outputs": [
    {
     "data": {
      "text/html": [
       "<div>\n",
       "<style scoped>\n",
       "    .dataframe tbody tr th:only-of-type {\n",
       "        vertical-align: middle;\n",
       "    }\n",
       "\n",
       "    .dataframe tbody tr th {\n",
       "        vertical-align: top;\n",
       "    }\n",
       "\n",
       "    .dataframe thead th {\n",
       "        text-align: right;\n",
       "    }\n",
       "</style>\n",
       "<table border=\"1\" class=\"dataframe\">\n",
       "  <thead>\n",
       "    <tr style=\"text-align: right;\">\n",
       "      <th></th>\n",
       "      <th>PassengerId</th>\n",
       "      <th>Survived</th>\n",
       "      <th>Pclass</th>\n",
       "      <th>Name</th>\n",
       "      <th>Sex</th>\n",
       "      <th>Age</th>\n",
       "      <th>SibSp</th>\n",
       "      <th>Parch</th>\n",
       "      <th>Ticket</th>\n",
       "      <th>Fare</th>\n",
       "      <th>Cabin</th>\n",
       "      <th>Embarked</th>\n",
       "    </tr>\n",
       "  </thead>\n",
       "  <tbody>\n",
       "    <tr>\n",
       "      <th>0</th>\n",
       "      <td>1</td>\n",
       "      <td>0</td>\n",
       "      <td>3</td>\n",
       "      <td>Braund, Mr. Owen Harris</td>\n",
       "      <td>male</td>\n",
       "      <td>22.0</td>\n",
       "      <td>1</td>\n",
       "      <td>0</td>\n",
       "      <td>A/5 21171</td>\n",
       "      <td>7.2500</td>\n",
       "      <td>NaN</td>\n",
       "      <td>S</td>\n",
       "    </tr>\n",
       "    <tr>\n",
       "      <th>1</th>\n",
       "      <td>2</td>\n",
       "      <td>1</td>\n",
       "      <td>1</td>\n",
       "      <td>Cumings, Mrs. John Bradley (Florence Briggs Th...</td>\n",
       "      <td>female</td>\n",
       "      <td>38.0</td>\n",
       "      <td>1</td>\n",
       "      <td>0</td>\n",
       "      <td>PC 17599</td>\n",
       "      <td>71.2833</td>\n",
       "      <td>C85</td>\n",
       "      <td>C</td>\n",
       "    </tr>\n",
       "    <tr>\n",
       "      <th>2</th>\n",
       "      <td>3</td>\n",
       "      <td>1</td>\n",
       "      <td>3</td>\n",
       "      <td>Heikkinen, Miss. Laina</td>\n",
       "      <td>female</td>\n",
       "      <td>26.0</td>\n",
       "      <td>0</td>\n",
       "      <td>0</td>\n",
       "      <td>STON/O2. 3101282</td>\n",
       "      <td>7.9250</td>\n",
       "      <td>NaN</td>\n",
       "      <td>S</td>\n",
       "    </tr>\n",
       "    <tr>\n",
       "      <th>3</th>\n",
       "      <td>4</td>\n",
       "      <td>1</td>\n",
       "      <td>1</td>\n",
       "      <td>Futrelle, Mrs. Jacques Heath (Lily May Peel)</td>\n",
       "      <td>female</td>\n",
       "      <td>35.0</td>\n",
       "      <td>1</td>\n",
       "      <td>0</td>\n",
       "      <td>113803</td>\n",
       "      <td>53.1000</td>\n",
       "      <td>C123</td>\n",
       "      <td>S</td>\n",
       "    </tr>\n",
       "    <tr>\n",
       "      <th>4</th>\n",
       "      <td>5</td>\n",
       "      <td>0</td>\n",
       "      <td>3</td>\n",
       "      <td>Allen, Mr. William Henry</td>\n",
       "      <td>male</td>\n",
       "      <td>35.0</td>\n",
       "      <td>0</td>\n",
       "      <td>0</td>\n",
       "      <td>373450</td>\n",
       "      <td>8.0500</td>\n",
       "      <td>NaN</td>\n",
       "      <td>S</td>\n",
       "    </tr>\n",
       "    <tr>\n",
       "      <th>5</th>\n",
       "      <td>6</td>\n",
       "      <td>0</td>\n",
       "      <td>3</td>\n",
       "      <td>Moran, Mr. James</td>\n",
       "      <td>male</td>\n",
       "      <td>NaN</td>\n",
       "      <td>0</td>\n",
       "      <td>0</td>\n",
       "      <td>330877</td>\n",
       "      <td>8.4583</td>\n",
       "      <td>NaN</td>\n",
       "      <td>Q</td>\n",
       "    </tr>\n",
       "    <tr>\n",
       "      <th>6</th>\n",
       "      <td>7</td>\n",
       "      <td>0</td>\n",
       "      <td>1</td>\n",
       "      <td>McCarthy, Mr. Timothy J</td>\n",
       "      <td>male</td>\n",
       "      <td>54.0</td>\n",
       "      <td>0</td>\n",
       "      <td>0</td>\n",
       "      <td>17463</td>\n",
       "      <td>51.8625</td>\n",
       "      <td>E46</td>\n",
       "      <td>S</td>\n",
       "    </tr>\n",
       "    <tr>\n",
       "      <th>7</th>\n",
       "      <td>8</td>\n",
       "      <td>0</td>\n",
       "      <td>3</td>\n",
       "      <td>Palsson, Master. Gosta Leonard</td>\n",
       "      <td>male</td>\n",
       "      <td>2.0</td>\n",
       "      <td>3</td>\n",
       "      <td>1</td>\n",
       "      <td>349909</td>\n",
       "      <td>21.0750</td>\n",
       "      <td>NaN</td>\n",
       "      <td>S</td>\n",
       "    </tr>\n",
       "    <tr>\n",
       "      <th>8</th>\n",
       "      <td>9</td>\n",
       "      <td>1</td>\n",
       "      <td>3</td>\n",
       "      <td>Johnson, Mrs. Oscar W (Elisabeth Vilhelmina Berg)</td>\n",
       "      <td>female</td>\n",
       "      <td>27.0</td>\n",
       "      <td>0</td>\n",
       "      <td>2</td>\n",
       "      <td>347742</td>\n",
       "      <td>11.1333</td>\n",
       "      <td>NaN</td>\n",
       "      <td>S</td>\n",
       "    </tr>\n",
       "    <tr>\n",
       "      <th>9</th>\n",
       "      <td>10</td>\n",
       "      <td>1</td>\n",
       "      <td>2</td>\n",
       "      <td>Nasser, Mrs. Nicholas (Adele Achem)</td>\n",
       "      <td>female</td>\n",
       "      <td>14.0</td>\n",
       "      <td>1</td>\n",
       "      <td>0</td>\n",
       "      <td>237736</td>\n",
       "      <td>30.0708</td>\n",
       "      <td>NaN</td>\n",
       "      <td>C</td>\n",
       "    </tr>\n",
       "  </tbody>\n",
       "</table>\n",
       "</div>"
      ],
      "text/plain": [
       "   PassengerId  Survived  Pclass  \\\n",
       "0            1         0       3   \n",
       "1            2         1       1   \n",
       "2            3         1       3   \n",
       "3            4         1       1   \n",
       "4            5         0       3   \n",
       "5            6         0       3   \n",
       "6            7         0       1   \n",
       "7            8         0       3   \n",
       "8            9         1       3   \n",
       "9           10         1       2   \n",
       "\n",
       "                                                Name     Sex   Age  SibSp  \\\n",
       "0                            Braund, Mr. Owen Harris    male  22.0      1   \n",
       "1  Cumings, Mrs. John Bradley (Florence Briggs Th...  female  38.0      1   \n",
       "2                             Heikkinen, Miss. Laina  female  26.0      0   \n",
       "3       Futrelle, Mrs. Jacques Heath (Lily May Peel)  female  35.0      1   \n",
       "4                           Allen, Mr. William Henry    male  35.0      0   \n",
       "5                                   Moran, Mr. James    male   NaN      0   \n",
       "6                            McCarthy, Mr. Timothy J    male  54.0      0   \n",
       "7                     Palsson, Master. Gosta Leonard    male   2.0      3   \n",
       "8  Johnson, Mrs. Oscar W (Elisabeth Vilhelmina Berg)  female  27.0      0   \n",
       "9                Nasser, Mrs. Nicholas (Adele Achem)  female  14.0      1   \n",
       "\n",
       "   Parch            Ticket     Fare Cabin Embarked  \n",
       "0      0         A/5 21171   7.2500   NaN        S  \n",
       "1      0          PC 17599  71.2833   C85        C  \n",
       "2      0  STON/O2. 3101282   7.9250   NaN        S  \n",
       "3      0            113803  53.1000  C123        S  \n",
       "4      0            373450   8.0500   NaN        S  \n",
       "5      0            330877   8.4583   NaN        Q  \n",
       "6      0             17463  51.8625   E46        S  \n",
       "7      1            349909  21.0750   NaN        S  \n",
       "8      2            347742  11.1333   NaN        S  \n",
       "9      0            237736  30.0708   NaN        C  "
      ]
     },
     "execution_count": 12,
     "metadata": {},
     "output_type": "execute_result"
    }
   ],
   "source": [
    "titanic_df.head(10)"
   ]
  },
  {
   "cell_type": "code",
   "execution_count": 13,
   "id": "c15c1edf",
   "metadata": {
    "execution": {
     "iopub.execute_input": "2022-08-03T17:57:18.438236Z",
     "iopub.status.busy": "2022-08-03T17:57:18.437757Z",
     "iopub.status.idle": "2022-08-03T17:57:18.448344Z",
     "shell.execute_reply": "2022-08-03T17:57:18.447553Z"
    },
    "papermill": {
     "duration": 0.031421,
     "end_time": "2022-08-03T17:57:18.450568",
     "exception": false,
     "start_time": "2022-08-03T17:57:18.419147",
     "status": "completed"
    },
    "tags": []
   },
   "outputs": [
    {
     "data": {
      "text/plain": [
       "0"
      ]
     },
     "execution_count": 13,
     "metadata": {},
     "output_type": "execute_result"
    }
   ],
   "source": [
    "titanic_df['Age']=titanic_df['Age'].interpolate()\n",
    "titanic_df['Age'].isna().sum()"
   ]
  },
  {
   "cell_type": "code",
   "execution_count": 14,
   "id": "d9d6013e",
   "metadata": {
    "execution": {
     "iopub.execute_input": "2022-08-03T17:57:18.487292Z",
     "iopub.status.busy": "2022-08-03T17:57:18.486640Z",
     "iopub.status.idle": "2022-08-03T17:57:18.701314Z",
     "shell.execute_reply": "2022-08-03T17:57:18.700177Z"
    },
    "papermill": {
     "duration": 0.236069,
     "end_time": "2022-08-03T17:57:18.703863",
     "exception": false,
     "start_time": "2022-08-03T17:57:18.467794",
     "status": "completed"
    },
    "tags": []
   },
   "outputs": [
    {
     "data": {
      "text/plain": [
       "<AxesSubplot:>"
      ]
     },
     "execution_count": 14,
     "metadata": {},
     "output_type": "execute_result"
    },
    {
     "data": {
      "image/png": "[encoded data removed]",
      "text/plain": [
       "<Figure size 432x288 with 1 Axes>"
      ]
     },
     "metadata": {},
     "output_type": "display_data"
    }
   ],
   "source": [
    "sns.heatmap(titanic_df.isnull(),yticklabels=False,cbar=False,cmap='viridis')"
   ]
  },
  {
   "cell_type": "markdown",
   "id": "092d9669",
   "metadata": {
    "papermill": {
     "duration": 0.017672,
     "end_time": "2022-08-03T17:57:18.739393",
     "exception": false,
     "start_time": "2022-08-03T17:57:18.721721",
     "status": "completed"
    },
    "tags": []
   },
   "source": [
    "The missing data is handled but Cabin column has much missing data so we drop it."
   ]
  },
  {
   "cell_type": "markdown",
   "id": "fb7cb27c",
   "metadata": {
    "execution": {
     "iopub.execute_input": "2022-08-03T08:31:56.211650Z",
     "iopub.status.busy": "2022-08-03T08:31:56.211239Z",
     "iopub.status.idle": "2022-08-03T08:31:56.216754Z",
     "shell.execute_reply": "2022-08-03T08:31:56.215661Z",
     "shell.execute_reply.started": "2022-08-03T08:31:56.211616Z"
    },
    "papermill": {
     "duration": 0.017517,
     "end_time": "2022-08-03T17:57:18.774262",
     "exception": false,
     "start_time": "2022-08-03T17:57:18.756745",
     "status": "completed"
    },
    "tags": []
   },
   "source": [
    "## Feature Selection and Conversion"
   ]
  },
  {
   "cell_type": "code",
   "execution_count": 15,
   "id": "bc509d51",
   "metadata": {
    "execution": {
     "iopub.execute_input": "2022-08-03T17:57:18.811117Z",
     "iopub.status.busy": "2022-08-03T17:57:18.810702Z",
     "iopub.status.idle": "2022-08-03T17:57:18.817793Z",
     "shell.execute_reply": "2022-08-03T17:57:18.816733Z"
    },
    "papermill": {
     "duration": 0.029044,
     "end_time": "2022-08-03T17:57:18.820592",
     "exception": false,
     "start_time": "2022-08-03T17:57:18.791548",
     "status": "completed"
    },
    "tags": []
   },
   "outputs": [],
   "source": [
    "cols=['Pclass','Sex','SibSp','Parch','Fare','Embarked','Age']\n",
    "X=titanic_df[cols]\n",
    "y=titanic_df['Survived']"
   ]
  },
  {
   "cell_type": "markdown",
   "id": "fa6a51ed",
   "metadata": {
    "papermill": {
     "duration": 0.016404,
     "end_time": "2022-08-03T17:57:18.854105",
     "exception": false,
     "start_time": "2022-08-03T17:57:18.837701",
     "status": "completed"
    },
    "tags": []
   },
   "source": [
    "We have selected the columns that highly impact the survival chances."
   ]
  },
  {
   "cell_type": "code",
   "execution_count": 16,
   "id": "7a3d2388",
   "metadata": {
    "execution": {
     "iopub.execute_input": "2022-08-03T17:57:18.889622Z",
     "iopub.status.busy": "2022-08-03T17:57:18.888484Z",
     "iopub.status.idle": "2022-08-03T17:57:18.902468Z",
     "shell.execute_reply": "2022-08-03T17:57:18.901516Z"
    },
    "papermill": {
     "duration": 0.03403,
     "end_time": "2022-08-03T17:57:18.904727",
     "exception": false,
     "start_time": "2022-08-03T17:57:18.870697",
     "status": "completed"
    },
    "tags": []
   },
   "outputs": [
    {
     "data": {
      "text/html": [
       "<div>\n",
       "<style scoped>\n",
       "    .dataframe tbody tr th:only-of-type {\n",
       "        vertical-align: middle;\n",
       "    }\n",
       "\n",
       "    .dataframe tbody tr th {\n",
       "        vertical-align: top;\n",
       "    }\n",
       "\n",
       "    .dataframe thead th {\n",
       "        text-align: right;\n",
       "    }\n",
       "</style>\n",
       "<table border=\"1\" class=\"dataframe\">\n",
       "  <thead>\n",
       "    <tr style=\"text-align: right;\">\n",
       "      <th></th>\n",
       "      <th>Pclass</th>\n",
       "      <th>Sex</th>\n",
       "      <th>SibSp</th>\n",
       "      <th>Parch</th>\n",
       "      <th>Fare</th>\n",
       "      <th>Embarked</th>\n",
       "      <th>Age</th>\n",
       "    </tr>\n",
       "  </thead>\n",
       "  <tbody>\n",
       "    <tr>\n",
       "      <th>0</th>\n",
       "      <td>3</td>\n",
       "      <td>male</td>\n",
       "      <td>1</td>\n",
       "      <td>0</td>\n",
       "      <td>7.2500</td>\n",
       "      <td>S</td>\n",
       "      <td>22.0</td>\n",
       "    </tr>\n",
       "    <tr>\n",
       "      <th>1</th>\n",
       "      <td>1</td>\n",
       "      <td>female</td>\n",
       "      <td>1</td>\n",
       "      <td>0</td>\n",
       "      <td>71.2833</td>\n",
       "      <td>C</td>\n",
       "      <td>38.0</td>\n",
       "    </tr>\n",
       "    <tr>\n",
       "      <th>2</th>\n",
       "      <td>3</td>\n",
       "      <td>female</td>\n",
       "      <td>0</td>\n",
       "      <td>0</td>\n",
       "      <td>7.9250</td>\n",
       "      <td>S</td>\n",
       "      <td>26.0</td>\n",
       "    </tr>\n",
       "    <tr>\n",
       "      <th>3</th>\n",
       "      <td>1</td>\n",
       "      <td>female</td>\n",
       "      <td>1</td>\n",
       "      <td>0</td>\n",
       "      <td>53.1000</td>\n",
       "      <td>S</td>\n",
       "      <td>35.0</td>\n",
       "    </tr>\n",
       "    <tr>\n",
       "      <th>4</th>\n",
       "      <td>3</td>\n",
       "      <td>male</td>\n",
       "      <td>0</td>\n",
       "      <td>0</td>\n",
       "      <td>8.0500</td>\n",
       "      <td>S</td>\n",
       "      <td>35.0</td>\n",
       "    </tr>\n",
       "  </tbody>\n",
       "</table>\n",
       "</div>"
      ],
      "text/plain": [
       "   Pclass     Sex  SibSp  Parch     Fare Embarked   Age\n",
       "0       3    male      1      0   7.2500        S  22.0\n",
       "1       1  female      1      0  71.2833        C  38.0\n",
       "2       3  female      0      0   7.9250        S  26.0\n",
       "3       1  female      1      0  53.1000        S  35.0\n",
       "4       3    male      0      0   8.0500        S  35.0"
      ]
     },
     "execution_count": 16,
     "metadata": {},
     "output_type": "execute_result"
    }
   ],
   "source": [
    "X.head()"
   ]
  },
  {
   "cell_type": "code",
   "execution_count": 17,
   "id": "064702d3",
   "metadata": {
    "execution": {
     "iopub.execute_input": "2022-08-03T17:57:18.940505Z",
     "iopub.status.busy": "2022-08-03T17:57:18.940095Z",
     "iopub.status.idle": "2022-08-03T17:57:18.947448Z",
     "shell.execute_reply": "2022-08-03T17:57:18.946309Z"
    },
    "papermill": {
     "duration": 0.027911,
     "end_time": "2022-08-03T17:57:18.949739",
     "exception": false,
     "start_time": "2022-08-03T17:57:18.921828",
     "status": "completed"
    },
    "tags": []
   },
   "outputs": [
    {
     "data": {
      "text/plain": [
       "0    0\n",
       "1    1\n",
       "2    1\n",
       "3    1\n",
       "4    0\n",
       "Name: Survived, dtype: int64"
      ]
     },
     "execution_count": 17,
     "metadata": {},
     "output_type": "execute_result"
    }
   ],
   "source": [
    "y.head()"
   ]
  },
  {
   "cell_type": "code",
   "execution_count": 18,
   "id": "50804e3c",
   "metadata": {
    "execution": {
     "iopub.execute_input": "2022-08-03T17:57:18.986065Z",
     "iopub.status.busy": "2022-08-03T17:57:18.985289Z",
     "iopub.status.idle": "2022-08-03T17:57:18.993242Z",
     "shell.execute_reply": "2022-08-03T17:57:18.992449Z"
    },
    "papermill": {
     "duration": 0.02905,
     "end_time": "2022-08-03T17:57:18.995765",
     "exception": false,
     "start_time": "2022-08-03T17:57:18.966715",
     "status": "completed"
    },
    "tags": []
   },
   "outputs": [],
   "source": [
    "sex=pd.get_dummies(X['Sex'],drop_first=True)\n",
    "embark=pd.get_dummies(X['Embarked'],drop_first=True)"
   ]
  },
  {
   "cell_type": "markdown",
   "id": "eed6fb38",
   "metadata": {
    "papermill": {
     "duration": 0.017075,
     "end_time": "2022-08-03T17:57:19.030965",
     "exception": false,
     "start_time": "2022-08-03T17:57:19.013890",
     "status": "completed"
    },
    "tags": []
   },
   "source": [
    "As Sex and Embarked columns has data other than Numerical data we will convert that data by using get_dummies() function in Pandas."
   ]
  },
  {
   "cell_type": "code",
   "execution_count": 19,
   "id": "edee317b",
   "metadata": {
    "execution": {
     "iopub.execute_input": "2022-08-03T17:57:19.067407Z",
     "iopub.status.busy": "2022-08-03T17:57:19.066637Z",
     "iopub.status.idle": "2022-08-03T17:57:19.073303Z",
     "shell.execute_reply": "2022-08-03T17:57:19.072516Z"
    },
    "papermill": {
     "duration": 0.027567,
     "end_time": "2022-08-03T17:57:19.075610",
     "exception": false,
     "start_time": "2022-08-03T17:57:19.048043",
     "status": "completed"
    },
    "tags": []
   },
   "outputs": [],
   "source": [
    "X=pd.concat([X,sex,embark],axis=1)"
   ]
  },
  {
   "cell_type": "code",
   "execution_count": 20,
   "id": "3d5809d0",
   "metadata": {
    "execution": {
     "iopub.execute_input": "2022-08-03T17:57:19.112257Z",
     "iopub.status.busy": "2022-08-03T17:57:19.111512Z",
     "iopub.status.idle": "2022-08-03T17:57:19.126815Z",
     "shell.execute_reply": "2022-08-03T17:57:19.125641Z"
    },
    "papermill": {
     "duration": 0.036094,
     "end_time": "2022-08-03T17:57:19.129074",
     "exception": false,
     "start_time": "2022-08-03T17:57:19.092980",
     "status": "completed"
    },
    "tags": []
   },
   "outputs": [
    {
     "data": {
      "text/html": [
       "<div>\n",
       "<style scoped>\n",
       "    .dataframe tbody tr th:only-of-type {\n",
       "        vertical-align: middle;\n",
       "    }\n",
       "\n",
       "    .dataframe tbody tr th {\n",
       "        vertical-align: top;\n",
       "    }\n",
       "\n",
       "    .dataframe thead th {\n",
       "        text-align: right;\n",
       "    }\n",
       "</style>\n",
       "<table border=\"1\" class=\"dataframe\">\n",
       "  <thead>\n",
       "    <tr style=\"text-align: right;\">\n",
       "      <th></th>\n",
       "      <th>Pclass</th>\n",
       "      <th>Sex</th>\n",
       "      <th>SibSp</th>\n",
       "      <th>Parch</th>\n",
       "      <th>Fare</th>\n",
       "      <th>Embarked</th>\n",
       "      <th>Age</th>\n",
       "      <th>male</th>\n",
       "      <th>Q</th>\n",
       "      <th>S</th>\n",
       "    </tr>\n",
       "  </thead>\n",
       "  <tbody>\n",
       "    <tr>\n",
       "      <th>0</th>\n",
       "      <td>3</td>\n",
       "      <td>male</td>\n",
       "      <td>1</td>\n",
       "      <td>0</td>\n",
       "      <td>7.2500</td>\n",
       "      <td>S</td>\n",
       "      <td>22.0</td>\n",
       "      <td>1</td>\n",
       "      <td>0</td>\n",
       "      <td>1</td>\n",
       "    </tr>\n",
       "    <tr>\n",
       "      <th>1</th>\n",
       "      <td>1</td>\n",
       "      <td>female</td>\n",
       "      <td>1</td>\n",
       "      <td>0</td>\n",
       "      <td>71.2833</td>\n",
       "      <td>C</td>\n",
       "      <td>38.0</td>\n",
       "      <td>0</td>\n",
       "      <td>0</td>\n",
       "      <td>0</td>\n",
       "    </tr>\n",
       "    <tr>\n",
       "      <th>2</th>\n",
       "      <td>3</td>\n",
       "      <td>female</td>\n",
       "      <td>0</td>\n",
       "      <td>0</td>\n",
       "      <td>7.9250</td>\n",
       "      <td>S</td>\n",
       "      <td>26.0</td>\n",
       "      <td>0</td>\n",
       "      <td>0</td>\n",
       "      <td>1</td>\n",
       "    </tr>\n",
       "    <tr>\n",
       "      <th>3</th>\n",
       "      <td>1</td>\n",
       "      <td>female</td>\n",
       "      <td>1</td>\n",
       "      <td>0</td>\n",
       "      <td>53.1000</td>\n",
       "      <td>S</td>\n",
       "      <td>35.0</td>\n",
       "      <td>0</td>\n",
       "      <td>0</td>\n",
       "      <td>1</td>\n",
       "    </tr>\n",
       "    <tr>\n",
       "      <th>4</th>\n",
       "      <td>3</td>\n",
       "      <td>male</td>\n",
       "      <td>0</td>\n",
       "      <td>0</td>\n",
       "      <td>8.0500</td>\n",
       "      <td>S</td>\n",
       "      <td>35.0</td>\n",
       "      <td>1</td>\n",
       "      <td>0</td>\n",
       "      <td>1</td>\n",
       "    </tr>\n",
       "  </tbody>\n",
       "</table>\n",
       "</div>"
      ],
      "text/plain": [
       "   Pclass     Sex  SibSp  Parch     Fare Embarked   Age  male  Q  S\n",
       "0       3    male      1      0   7.2500        S  22.0     1  0  1\n",
       "1       1  female      1      0  71.2833        C  38.0     0  0  0\n",
       "2       3  female      0      0   7.9250        S  26.0     0  0  1\n",
       "3       1  female      1      0  53.1000        S  35.0     0  0  1\n",
       "4       3    male      0      0   8.0500        S  35.0     1  0  1"
      ]
     },
     "execution_count": 20,
     "metadata": {},
     "output_type": "execute_result"
    }
   ],
   "source": [
    "X.head()"
   ]
  },
  {
   "cell_type": "code",
   "execution_count": 21,
   "id": "fa007b12",
   "metadata": {
    "execution": {
     "iopub.execute_input": "2022-08-03T17:57:19.166065Z",
     "iopub.status.busy": "2022-08-03T17:57:19.165289Z",
     "iopub.status.idle": "2022-08-03T17:57:19.172808Z",
     "shell.execute_reply": "2022-08-03T17:57:19.171942Z"
    },
    "papermill": {
     "duration": 0.028589,
     "end_time": "2022-08-03T17:57:19.175062",
     "exception": false,
     "start_time": "2022-08-03T17:57:19.146473",
     "status": "completed"
    },
    "tags": []
   },
   "outputs": [
    {
     "data": {
      "text/plain": [
       "0    0\n",
       "1    1\n",
       "2    1\n",
       "3    1\n",
       "4    0\n",
       "Name: Survived, dtype: int64"
      ]
     },
     "execution_count": 21,
     "metadata": {},
     "output_type": "execute_result"
    }
   ],
   "source": [
    "y.head()"
   ]
  },
  {
   "cell_type": "code",
   "execution_count": 22,
   "id": "52e526cc",
   "metadata": {
    "execution": {
     "iopub.execute_input": "2022-08-03T17:57:19.212179Z",
     "iopub.status.busy": "2022-08-03T17:57:19.211434Z",
     "iopub.status.idle": "2022-08-03T17:57:19.227475Z",
     "shell.execute_reply": "2022-08-03T17:57:19.226311Z"
    },
    "papermill": {
     "duration": 0.037348,
     "end_time": "2022-08-03T17:57:19.229881",
     "exception": false,
     "start_time": "2022-08-03T17:57:19.192533",
     "status": "completed"
    },
    "tags": []
   },
   "outputs": [
    {
     "data": {
      "text/html": [
       "<div>\n",
       "<style scoped>\n",
       "    .dataframe tbody tr th:only-of-type {\n",
       "        vertical-align: middle;\n",
       "    }\n",
       "\n",
       "    .dataframe tbody tr th {\n",
       "        vertical-align: top;\n",
       "    }\n",
       "\n",
       "    .dataframe thead th {\n",
       "        text-align: right;\n",
       "    }\n",
       "</style>\n",
       "<table border=\"1\" class=\"dataframe\">\n",
       "  <thead>\n",
       "    <tr style=\"text-align: right;\">\n",
       "      <th></th>\n",
       "      <th>Pclass</th>\n",
       "      <th>SibSp</th>\n",
       "      <th>Parch</th>\n",
       "      <th>Fare</th>\n",
       "      <th>Age</th>\n",
       "      <th>male</th>\n",
       "      <th>Q</th>\n",
       "      <th>S</th>\n",
       "    </tr>\n",
       "  </thead>\n",
       "  <tbody>\n",
       "    <tr>\n",
       "      <th>0</th>\n",
       "      <td>3</td>\n",
       "      <td>1</td>\n",
       "      <td>0</td>\n",
       "      <td>7.2500</td>\n",
       "      <td>22.0</td>\n",
       "      <td>1</td>\n",
       "      <td>0</td>\n",
       "      <td>1</td>\n",
       "    </tr>\n",
       "    <tr>\n",
       "      <th>1</th>\n",
       "      <td>1</td>\n",
       "      <td>1</td>\n",
       "      <td>0</td>\n",
       "      <td>71.2833</td>\n",
       "      <td>38.0</td>\n",
       "      <td>0</td>\n",
       "      <td>0</td>\n",
       "      <td>0</td>\n",
       "    </tr>\n",
       "    <tr>\n",
       "      <th>2</th>\n",
       "      <td>3</td>\n",
       "      <td>0</td>\n",
       "      <td>0</td>\n",
       "      <td>7.9250</td>\n",
       "      <td>26.0</td>\n",
       "      <td>0</td>\n",
       "      <td>0</td>\n",
       "      <td>1</td>\n",
       "    </tr>\n",
       "    <tr>\n",
       "      <th>3</th>\n",
       "      <td>1</td>\n",
       "      <td>1</td>\n",
       "      <td>0</td>\n",
       "      <td>53.1000</td>\n",
       "      <td>35.0</td>\n",
       "      <td>0</td>\n",
       "      <td>0</td>\n",
       "      <td>1</td>\n",
       "    </tr>\n",
       "    <tr>\n",
       "      <th>4</th>\n",
       "      <td>3</td>\n",
       "      <td>0</td>\n",
       "      <td>0</td>\n",
       "      <td>8.0500</td>\n",
       "      <td>35.0</td>\n",
       "      <td>1</td>\n",
       "      <td>0</td>\n",
       "      <td>1</td>\n",
       "    </tr>\n",
       "  </tbody>\n",
       "</table>\n",
       "</div>"
      ],
      "text/plain": [
       "   Pclass  SibSp  Parch     Fare   Age  male  Q  S\n",
       "0       3      1      0   7.2500  22.0     1  0  1\n",
       "1       1      1      0  71.2833  38.0     0  0  0\n",
       "2       3      0      0   7.9250  26.0     0  0  1\n",
       "3       1      1      0  53.1000  35.0     0  0  1\n",
       "4       3      0      0   8.0500  35.0     1  0  1"
      ]
     },
     "execution_count": 22,
     "metadata": {},
     "output_type": "execute_result"
    }
   ],
   "source": [
    "X.drop(['Sex','Embarked',],axis=1,inplace=True)\n",
    "X.head()"
   ]
  },
  {
   "cell_type": "code",
   "execution_count": 23,
   "id": "6314ebfb",
   "metadata": {
    "execution": {
     "iopub.execute_input": "2022-08-03T17:57:19.267460Z",
     "iopub.status.busy": "2022-08-03T17:57:19.266713Z",
     "iopub.status.idle": "2022-08-03T17:57:19.271620Z",
     "shell.execute_reply": "2022-08-03T17:57:19.270810Z"
    },
    "papermill": {
     "duration": 0.026097,
     "end_time": "2022-08-03T17:57:19.273847",
     "exception": false,
     "start_time": "2022-08-03T17:57:19.247750",
     "status": "completed"
    },
    "tags": []
   },
   "outputs": [],
   "source": [
    "colm=X.columns.values.tolist()"
   ]
  },
  {
   "cell_type": "markdown",
   "id": "1b379c97",
   "metadata": {
    "papermill": {
     "duration": 0.01737,
     "end_time": "2022-08-03T17:57:19.309076",
     "exception": false,
     "start_time": "2022-08-03T17:57:19.291706",
     "status": "completed"
    },
    "tags": []
   },
   "source": [
    "## Scaling the data"
   ]
  },
  {
   "cell_type": "markdown",
   "id": "6b6b6732",
   "metadata": {
    "papermill": {
     "duration": 0.017286,
     "end_time": "2022-08-03T17:57:19.344071",
     "exception": false,
     "start_time": "2022-08-03T17:57:19.326785",
     "status": "completed"
    },
    "tags": []
   },
   "source": [
    "We can fit the data into our model without scaling it but when the data is scaled the performance of the model slightly improves."
   ]
  },
  {
   "cell_type": "code",
   "execution_count": 24,
   "id": "317b2127",
   "metadata": {
    "execution": {
     "iopub.execute_input": "2022-08-03T17:57:19.381038Z",
     "iopub.status.busy": "2022-08-03T17:57:19.380259Z",
     "iopub.status.idle": "2022-08-03T17:57:19.536834Z",
     "shell.execute_reply": "2022-08-03T17:57:19.535655Z"
    },
    "papermill": {
     "duration": 0.178242,
     "end_time": "2022-08-03T17:57:19.539700",
     "exception": false,
     "start_time": "2022-08-03T17:57:19.361458",
     "status": "completed"
    },
    "tags": []
   },
   "outputs": [],
   "source": [
    "from sklearn.preprocessing import StandardScaler\n",
    "scaler=StandardScaler()\n",
    "X_data=pd.DataFrame(data=X)"
   ]
  },
  {
   "cell_type": "code",
   "execution_count": 25,
   "id": "e97adb82",
   "metadata": {
    "execution": {
     "iopub.execute_input": "2022-08-03T17:57:19.577263Z",
     "iopub.status.busy": "2022-08-03T17:57:19.576520Z",
     "iopub.status.idle": "2022-08-03T17:57:19.587400Z",
     "shell.execute_reply": "2022-08-03T17:57:19.586485Z"
    },
    "papermill": {
     "duration": 0.032472,
     "end_time": "2022-08-03T17:57:19.589931",
     "exception": false,
     "start_time": "2022-08-03T17:57:19.557459",
     "status": "completed"
    },
    "tags": []
   },
   "outputs": [],
   "source": [
    "X_data[colm]=scaler.fit_transform(X_data[colm])"
   ]
  },
  {
   "cell_type": "markdown",
   "id": "cb5525f3",
   "metadata": {
    "execution": {
     "iopub.execute_input": "2022-08-03T09:18:57.095268Z",
     "iopub.status.busy": "2022-08-03T09:18:57.094868Z",
     "iopub.status.idle": "2022-08-03T09:18:57.099885Z",
     "shell.execute_reply": "2022-08-03T09:18:57.098960Z",
     "shell.execute_reply.started": "2022-08-03T09:18:57.095235Z"
    },
    "papermill": {
     "duration": 0.017393,
     "end_time": "2022-08-03T17:57:19.625505",
     "exception": false,
     "start_time": "2022-08-03T17:57:19.608112",
     "status": "completed"
    },
    "tags": []
   },
   "source": [
    "## Spliting the data"
   ]
  },
  {
   "cell_type": "code",
   "execution_count": 26,
   "id": "08c89901",
   "metadata": {
    "execution": {
     "iopub.execute_input": "2022-08-03T17:57:19.663011Z",
     "iopub.status.busy": "2022-08-03T17:57:19.662418Z",
     "iopub.status.idle": "2022-08-03T17:57:19.731044Z",
     "shell.execute_reply": "2022-08-03T17:57:19.729689Z"
    },
    "papermill": {
     "duration": 0.090632,
     "end_time": "2022-08-03T17:57:19.733738",
     "exception": false,
     "start_time": "2022-08-03T17:57:19.643106",
     "status": "completed"
    },
    "tags": []
   },
   "outputs": [],
   "source": [
    "from sklearn.model_selection import train_test_split\n",
    "X_train,X_test,y_train,y_test=train_test_split(X_data,y,test_size=0.2,random_state=42)"
   ]
  },
  {
   "cell_type": "markdown",
   "id": "093ec856",
   "metadata": {
    "papermill": {
     "duration": 0.021609,
     "end_time": "2022-08-03T17:57:19.773276",
     "exception": false,
     "start_time": "2022-08-03T17:57:19.751667",
     "status": "completed"
    },
    "tags": []
   },
   "source": [
    "## Building Models"
   ]
  },
  {
   "cell_type": "markdown",
   "id": "0d01a122",
   "metadata": {
    "papermill": {
     "duration": 0.017856,
     "end_time": "2022-08-03T17:57:19.809507",
     "exception": false,
     "start_time": "2022-08-03T17:57:19.791651",
     "status": "completed"
    },
    "tags": []
   },
   "source": [
    "### Logistic Regression"
   ]
  },
  {
   "cell_type": "code",
   "execution_count": 27,
   "id": "f86e158d",
   "metadata": {
    "execution": {
     "iopub.execute_input": "2022-08-03T17:57:19.847285Z",
     "iopub.status.busy": "2022-08-03T17:57:19.846514Z",
     "iopub.status.idle": "2022-08-03T17:57:19.944907Z",
     "shell.execute_reply": "2022-08-03T17:57:19.943667Z"
    },
    "papermill": {
     "duration": 0.120642,
     "end_time": "2022-08-03T17:57:19.947814",
     "exception": false,
     "start_time": "2022-08-03T17:57:19.827172",
     "status": "completed"
    },
    "tags": []
   },
   "outputs": [],
   "source": [
    "from sklearn.linear_model import LogisticRegression\n",
    "lr=LogisticRegression()\n",
    "lr.fit(X_train,y_train)\n",
    "y_preds_lr=lr.predict(X_test)"
   ]
  },
  {
   "cell_type": "markdown",
   "id": "9134bd1b",
   "metadata": {
    "papermill": {
     "duration": 0.01808,
     "end_time": "2022-08-03T17:57:19.983731",
     "exception": false,
     "start_time": "2022-08-03T17:57:19.965651",
     "status": "completed"
    },
    "tags": []
   },
   "source": [
    "### K Nearest Neighbors"
   ]
  },
  {
   "cell_type": "code",
   "execution_count": 28,
   "id": "40394de2",
   "metadata": {
    "execution": {
     "iopub.execute_input": "2022-08-03T17:57:20.021219Z",
     "iopub.status.busy": "2022-08-03T17:57:20.020743Z",
     "iopub.status.idle": "2022-08-03T17:57:20.088464Z",
     "shell.execute_reply": "2022-08-03T17:57:20.086855Z"
    },
    "papermill": {
     "duration": 0.090116,
     "end_time": "2022-08-03T17:57:20.091388",
     "exception": false,
     "start_time": "2022-08-03T17:57:20.001272",
     "status": "completed"
    },
    "tags": []
   },
   "outputs": [],
   "source": [
    "from sklearn.neighbors import KNeighborsClassifier\n",
    "knn=KNeighborsClassifier()\n",
    "knn.fit(X_train,y_train)\n",
    "y_preds_knn=knn.predict(X_test)"
   ]
  },
  {
   "cell_type": "markdown",
   "id": "2087246d",
   "metadata": {
    "papermill": {
     "duration": 0.01796,
     "end_time": "2022-08-03T17:57:20.127890",
     "exception": false,
     "start_time": "2022-08-03T17:57:20.109930",
     "status": "completed"
    },
    "tags": []
   },
   "source": [
    "### Gaussian Naive Bayes"
   ]
  },
  {
   "cell_type": "code",
   "execution_count": 29,
   "id": "a8224e3a",
   "metadata": {
    "execution": {
     "iopub.execute_input": "2022-08-03T17:57:20.166090Z",
     "iopub.status.busy": "2022-08-03T17:57:20.165656Z",
     "iopub.status.idle": "2022-08-03T17:57:20.177145Z",
     "shell.execute_reply": "2022-08-03T17:57:20.176239Z"
    },
    "papermill": {
     "duration": 0.033626,
     "end_time": "2022-08-03T17:57:20.179513",
     "exception": false,
     "start_time": "2022-08-03T17:57:20.145887",
     "status": "completed"
    },
    "tags": []
   },
   "outputs": [],
   "source": [
    "from sklearn.naive_bayes import GaussianNB\n",
    "gnb=GaussianNB()\n",
    "gnb.fit(X_train,y_train)\n",
    "y_preds_gnb=gnb.predict(X_test)"
   ]
  },
  {
   "cell_type": "markdown",
   "id": "421fead2",
   "metadata": {
    "papermill": {
     "duration": 0.018191,
     "end_time": "2022-08-03T17:57:20.216117",
     "exception": false,
     "start_time": "2022-08-03T17:57:20.197926",
     "status": "completed"
    },
    "tags": []
   },
   "source": [
    "### Decision Tree"
   ]
  },
  {
   "cell_type": "code",
   "execution_count": 30,
   "id": "5881f1fa",
   "metadata": {
    "execution": {
     "iopub.execute_input": "2022-08-03T17:57:20.254303Z",
     "iopub.status.busy": "2022-08-03T17:57:20.253622Z",
     "iopub.status.idle": "2022-08-03T17:57:20.291072Z",
     "shell.execute_reply": "2022-08-03T17:57:20.290230Z"
    },
    "papermill": {
     "duration": 0.059451,
     "end_time": "2022-08-03T17:57:20.293727",
     "exception": false,
     "start_time": "2022-08-03T17:57:20.234276",
     "status": "completed"
    },
    "tags": []
   },
   "outputs": [],
   "source": [
    "from sklearn.tree import DecisionTreeClassifier\n",
    "dt=DecisionTreeClassifier()\n",
    "dt.fit(X_train,y_train)\n",
    "y_preds_dt=dt.predict(X_test)"
   ]
  },
  {
   "cell_type": "markdown",
   "id": "8fdca7fa",
   "metadata": {
    "papermill": {
     "duration": 0.017387,
     "end_time": "2022-08-03T17:57:20.329905",
     "exception": false,
     "start_time": "2022-08-03T17:57:20.312518",
     "status": "completed"
    },
    "tags": []
   },
   "source": [
    "### Support Vector Machine"
   ]
  },
  {
   "cell_type": "code",
   "execution_count": 31,
   "id": "921d621f",
   "metadata": {
    "execution": {
     "iopub.execute_input": "2022-08-03T17:57:20.368181Z",
     "iopub.status.busy": "2022-08-03T17:57:20.367410Z",
     "iopub.status.idle": "2022-08-03T17:57:20.399653Z",
     "shell.execute_reply": "2022-08-03T17:57:20.398557Z"
    },
    "papermill": {
     "duration": 0.054882,
     "end_time": "2022-08-03T17:57:20.402134",
     "exception": false,
     "start_time": "2022-08-03T17:57:20.347252",
     "status": "completed"
    },
    "tags": []
   },
   "outputs": [],
   "source": [
    "from sklearn.svm import SVC\n",
    "svm=SVC()\n",
    "svm.fit(X_train,y_train)\n",
    "y_preds_svm=svm.predict(X_test)"
   ]
  },
  {
   "cell_type": "markdown",
   "id": "7d361faa",
   "metadata": {
    "papermill": {
     "duration": 0.017113,
     "end_time": "2022-08-03T17:57:20.436747",
     "exception": false,
     "start_time": "2022-08-03T17:57:20.419634",
     "status": "completed"
    },
    "tags": []
   },
   "source": [
    "## Evaluation"
   ]
  },
  {
   "cell_type": "code",
   "execution_count": 32,
   "id": "90392a0c",
   "metadata": {
    "execution": {
     "iopub.execute_input": "2022-08-03T17:57:20.473644Z",
     "iopub.status.busy": "2022-08-03T17:57:20.473155Z",
     "iopub.status.idle": "2022-08-03T17:57:20.480589Z",
     "shell.execute_reply": "2022-08-03T17:57:20.479749Z"
    },
    "papermill": {
     "duration": 0.028679,
     "end_time": "2022-08-03T17:57:20.482693",
     "exception": false,
     "start_time": "2022-08-03T17:57:20.454014",
     "status": "completed"
    },
    "tags": []
   },
   "outputs": [],
   "source": [
    "from sklearn.metrics import accuracy_score\n",
    "lr_score=accuracy_score(y_test,y_preds_lr)\n",
    "knn_score=accuracy_score(y_test,y_preds_knn)\n",
    "gnb_score=accuracy_score(y_test,y_preds_gnb)\n",
    "dt_score=accuracy_score(y_test,y_preds_dt)\n",
    "svm_score=accuracy_score(y_test,y_preds_svm)"
   ]
  },
  {
   "cell_type": "code",
   "execution_count": 33,
   "id": "a2a16fc0",
   "metadata": {
    "execution": {
     "iopub.execute_input": "2022-08-03T17:57:20.520306Z",
     "iopub.status.busy": "2022-08-03T17:57:20.519537Z",
     "iopub.status.idle": "2022-08-03T17:57:20.532976Z",
     "shell.execute_reply": "2022-08-03T17:57:20.532200Z"
    },
    "papermill": {
     "duration": 0.034589,
     "end_time": "2022-08-03T17:57:20.535034",
     "exception": false,
     "start_time": "2022-08-03T17:57:20.500445",
     "status": "completed"
    },
    "tags": []
   },
   "outputs": [
    {
     "data": {
      "text/html": [
       "<div>\n",
       "<style scoped>\n",
       "    .dataframe tbody tr th:only-of-type {\n",
       "        vertical-align: middle;\n",
       "    }\n",
       "\n",
       "    .dataframe tbody tr th {\n",
       "        vertical-align: top;\n",
       "    }\n",
       "\n",
       "    .dataframe thead th {\n",
       "        text-align: right;\n",
       "    }\n",
       "</style>\n",
       "<table border=\"1\" class=\"dataframe\">\n",
       "  <thead>\n",
       "    <tr style=\"text-align: right;\">\n",
       "      <th></th>\n",
       "      <th>Model</th>\n",
       "    </tr>\n",
       "    <tr>\n",
       "      <th>Accuracy Score</th>\n",
       "      <th></th>\n",
       "    </tr>\n",
       "  </thead>\n",
       "  <tbody>\n",
       "    <tr>\n",
       "      <th>0.815642</th>\n",
       "      <td>Decision Tree</td>\n",
       "    </tr>\n",
       "    <tr>\n",
       "      <th>0.810056</th>\n",
       "      <td>Support Vector Machine</td>\n",
       "    </tr>\n",
       "    <tr>\n",
       "      <th>0.798883</th>\n",
       "      <td>Logistic Regression</td>\n",
       "    </tr>\n",
       "    <tr>\n",
       "      <th>0.798883</th>\n",
       "      <td>K Nearest Neighbors</td>\n",
       "    </tr>\n",
       "    <tr>\n",
       "      <th>0.765363</th>\n",
       "      <td>Gaussian Naive Bayes</td>\n",
       "    </tr>\n",
       "  </tbody>\n",
       "</table>\n",
       "</div>"
      ],
      "text/plain": [
       "                                 Model\n",
       "Accuracy Score                        \n",
       "0.815642                 Decision Tree\n",
       "0.810056        Support Vector Machine\n",
       "0.798883           Logistic Regression\n",
       "0.798883           K Nearest Neighbors\n",
       "0.765363          Gaussian Naive Bayes"
      ]
     },
     "execution_count": 33,
     "metadata": {},
     "output_type": "execute_result"
    }
   ],
   "source": [
    "results = pd.DataFrame({\n",
    "    'Model': ['Logistic Regression','K Nearest Neighbors','Gaussian Naive Bayes','Decision Tree','Support Vector Machine'],\n",
    "    'Accuracy Score': [lr_score,knn_score,gnb_score,dt_score,svm_score]})\n",
    "result_df = results.sort_values(by='Accuracy Score', ascending=False)\n",
    "result_df = result_df.set_index('Accuracy Score')\n",
    "result_df.head()"
   ]
  },
  {
   "cell_type": "markdown",
   "id": "abcadc16",
   "metadata": {
    "execution": {
     "iopub.execute_input": "2022-08-03T09:21:48.559224Z",
     "iopub.status.busy": "2022-08-03T09:21:48.558204Z",
     "iopub.status.idle": "2022-08-03T09:21:48.565425Z",
     "shell.execute_reply": "2022-08-03T09:21:48.563783Z",
     "shell.execute_reply.started": "2022-08-03T09:21:48.559179Z"
    },
    "papermill": {
     "duration": 0.01726,
     "end_time": "2022-08-03T17:57:20.570074",
     "exception": false,
     "start_time": "2022-08-03T17:57:20.552814",
     "status": "completed"
    },
    "tags": []
   },
   "source": [
    "Hence our models perform differently with different classifiers.But Decision Tree Classifier and SVM performed well with 81% accuracy."
   ]
  },
  {
   "cell_type": "markdown",
   "id": "7bfa85b0",
   "metadata": {
    "papermill": {
     "duration": 0.017251,
     "end_time": "2022-08-03T17:57:20.604876",
     "exception": false,
     "start_time": "2022-08-03T17:57:20.587625",
     "status": "completed"
    },
    "tags": []
   },
   "source": [
    "## Predictions and Submission on the testing set"
   ]
  },
  {
   "cell_type": "markdown",
   "id": "e5c2566e",
   "metadata": {
    "papermill": {
     "duration": 0.017199,
     "end_time": "2022-08-03T17:57:20.639508",
     "exception": false,
     "start_time": "2022-08-03T17:57:20.622309",
     "status": "completed"
    },
    "tags": []
   },
   "source": [
    "Same data Preprocessing that we have done on the training set applies . As Decision Tree Algorithm did perform well we select that model and predict the testing set on that."
   ]
  },
  {
   "cell_type": "code",
   "execution_count": 34,
   "id": "82dad465",
   "metadata": {
    "execution": {
     "iopub.execute_input": "2022-08-03T17:57:20.678739Z",
     "iopub.status.busy": "2022-08-03T17:57:20.677892Z",
     "iopub.status.idle": "2022-08-03T17:57:20.703319Z",
     "shell.execute_reply": "2022-08-03T17:57:20.702314Z"
    },
    "papermill": {
     "duration": 0.048231,
     "end_time": "2022-08-03T17:57:20.705435",
     "exception": false,
     "start_time": "2022-08-03T17:57:20.657204",
     "status": "completed"
    },
    "tags": []
   },
   "outputs": [
    {
     "data": {
      "text/html": [
       "<div>\n",
       "<style scoped>\n",
       "    .dataframe tbody tr th:only-of-type {\n",
       "        vertical-align: middle;\n",
       "    }\n",
       "\n",
       "    .dataframe tbody tr th {\n",
       "        vertical-align: top;\n",
       "    }\n",
       "\n",
       "    .dataframe thead th {\n",
       "        text-align: right;\n",
       "    }\n",
       "</style>\n",
       "<table border=\"1\" class=\"dataframe\">\n",
       "  <thead>\n",
       "    <tr style=\"text-align: right;\">\n",
       "      <th></th>\n",
       "      <th>PassengerId</th>\n",
       "      <th>Pclass</th>\n",
       "      <th>Name</th>\n",
       "      <th>Sex</th>\n",
       "      <th>Age</th>\n",
       "      <th>SibSp</th>\n",
       "      <th>Parch</th>\n",
       "      <th>Ticket</th>\n",
       "      <th>Fare</th>\n",
       "      <th>Cabin</th>\n",
       "      <th>Embarked</th>\n",
       "    </tr>\n",
       "  </thead>\n",
       "  <tbody>\n",
       "    <tr>\n",
       "      <th>0</th>\n",
       "      <td>892</td>\n",
       "      <td>3</td>\n",
       "      <td>Kelly, Mr. James</td>\n",
       "      <td>male</td>\n",
       "      <td>34.5</td>\n",
       "      <td>0</td>\n",
       "      <td>0</td>\n",
       "      <td>330911</td>\n",
       "      <td>7.8292</td>\n",
       "      <td>NaN</td>\n",
       "      <td>Q</td>\n",
       "    </tr>\n",
       "    <tr>\n",
       "      <th>1</th>\n",
       "      <td>893</td>\n",
       "      <td>3</td>\n",
       "      <td>Wilkes, Mrs. James (Ellen Needs)</td>\n",
       "      <td>female</td>\n",
       "      <td>47.0</td>\n",
       "      <td>1</td>\n",
       "      <td>0</td>\n",
       "      <td>363272</td>\n",
       "      <td>7.0000</td>\n",
       "      <td>NaN</td>\n",
       "      <td>S</td>\n",
       "    </tr>\n",
       "    <tr>\n",
       "      <th>2</th>\n",
       "      <td>894</td>\n",
       "      <td>2</td>\n",
       "      <td>Myles, Mr. Thomas Francis</td>\n",
       "      <td>male</td>\n",
       "      <td>62.0</td>\n",
       "      <td>0</td>\n",
       "      <td>0</td>\n",
       "      <td>240276</td>\n",
       "      <td>9.6875</td>\n",
       "      <td>NaN</td>\n",
       "      <td>Q</td>\n",
       "    </tr>\n",
       "    <tr>\n",
       "      <th>3</th>\n",
       "      <td>895</td>\n",
       "      <td>3</td>\n",
       "      <td>Wirz, Mr. Albert</td>\n",
       "      <td>male</td>\n",
       "      <td>27.0</td>\n",
       "      <td>0</td>\n",
       "      <td>0</td>\n",
       "      <td>315154</td>\n",
       "      <td>8.6625</td>\n",
       "      <td>NaN</td>\n",
       "      <td>S</td>\n",
       "    </tr>\n",
       "    <tr>\n",
       "      <th>4</th>\n",
       "      <td>896</td>\n",
       "      <td>3</td>\n",
       "      <td>Hirvonen, Mrs. Alexander (Helga E Lindqvist)</td>\n",
       "      <td>female</td>\n",
       "      <td>22.0</td>\n",
       "      <td>1</td>\n",
       "      <td>1</td>\n",
       "      <td>3101298</td>\n",
       "      <td>12.2875</td>\n",
       "      <td>NaN</td>\n",
       "      <td>S</td>\n",
       "    </tr>\n",
       "  </tbody>\n",
       "</table>\n",
       "</div>"
      ],
      "text/plain": [
       "   PassengerId  Pclass                                          Name     Sex  \\\n",
       "0          892       3                              Kelly, Mr. James    male   \n",
       "1          893       3              Wilkes, Mrs. James (Ellen Needs)  female   \n",
       "2          894       2                     Myles, Mr. Thomas Francis    male   \n",
       "3          895       3                              Wirz, Mr. Albert    male   \n",
       "4          896       3  Hirvonen, Mrs. Alexander (Helga E Lindqvist)  female   \n",
       "\n",
       "    Age  SibSp  Parch   Ticket     Fare Cabin Embarked  \n",
       "0  34.5      0      0   330911   7.8292   NaN        Q  \n",
       "1  47.0      1      0   363272   7.0000   NaN        S  \n",
       "2  62.0      0      0   240276   9.6875   NaN        Q  \n",
       "3  27.0      0      0   315154   8.6625   NaN        S  \n",
       "4  22.0      1      1  3101298  12.2875   NaN        S  "
      ]
     },
     "execution_count": 34,
     "metadata": {},
     "output_type": "execute_result"
    }
   ],
   "source": [
    "test_df=pd.read_csv('../input/titanic/test.csv')\n",
    "test_df.head()"
   ]
  },
  {
   "cell_type": "code",
   "execution_count": 35,
   "id": "1669c8e6",
   "metadata": {
    "execution": {
     "iopub.execute_input": "2022-08-03T17:57:20.745139Z",
     "iopub.status.busy": "2022-08-03T17:57:20.744355Z",
     "iopub.status.idle": "2022-08-03T17:57:20.750909Z",
     "shell.execute_reply": "2022-08-03T17:57:20.750026Z"
    },
    "papermill": {
     "duration": 0.028766,
     "end_time": "2022-08-03T17:57:20.752939",
     "exception": false,
     "start_time": "2022-08-03T17:57:20.724173",
     "status": "completed"
    },
    "tags": []
   },
   "outputs": [
    {
     "data": {
      "text/plain": [
       "Index(['Pclass', 'SibSp', 'Parch', 'Fare', 'Age', 'male', 'Q', 'S'], dtype='object')"
      ]
     },
     "execution_count": 35,
     "metadata": {},
     "output_type": "execute_result"
    }
   ],
   "source": [
    "req_colm=X_train.columns\n",
    "req_colm"
   ]
  },
  {
   "cell_type": "code",
   "execution_count": 36,
   "id": "a21a09a3",
   "metadata": {
    "execution": {
     "iopub.execute_input": "2022-08-03T17:57:20.791529Z",
     "iopub.status.busy": "2022-08-03T17:57:20.790726Z",
     "iopub.status.idle": "2022-08-03T17:57:20.797798Z",
     "shell.execute_reply": "2022-08-03T17:57:20.796922Z"
    },
    "papermill": {
     "duration": 0.029002,
     "end_time": "2022-08-03T17:57:20.800015",
     "exception": false,
     "start_time": "2022-08-03T17:57:20.771013",
     "status": "completed"
    },
    "tags": []
   },
   "outputs": [],
   "source": [
    "test_embarked_dum = pd.get_dummies(test_df['Embarked'])\n",
    "\n",
    "test_sex_dum = pd.get_dummies(test_df['Sex'])"
   ]
  },
  {
   "cell_type": "code",
   "execution_count": 37,
   "id": "e4bc4182",
   "metadata": {
    "execution": {
     "iopub.execute_input": "2022-08-03T17:57:20.839061Z",
     "iopub.status.busy": "2022-08-03T17:57:20.838366Z",
     "iopub.status.idle": "2022-08-03T17:57:20.844786Z",
     "shell.execute_reply": "2022-08-03T17:57:20.843926Z"
    },
    "papermill": {
     "duration": 0.028505,
     "end_time": "2022-08-03T17:57:20.847010",
     "exception": false,
     "start_time": "2022-08-03T17:57:20.818505",
     "status": "completed"
    },
    "tags": []
   },
   "outputs": [],
   "source": [
    "test_df = pd.concat([test_df, \n",
    "                  test_embarked_dum, \n",
    "                  test_sex_dum], axis=1)"
   ]
  },
  {
   "cell_type": "code",
   "execution_count": 38,
   "id": "6d72abd9",
   "metadata": {
    "execution": {
     "iopub.execute_input": "2022-08-03T17:57:20.886058Z",
     "iopub.status.busy": "2022-08-03T17:57:20.884964Z",
     "iopub.status.idle": "2022-08-03T17:57:20.897724Z",
     "shell.execute_reply": "2022-08-03T17:57:20.896843Z"
    },
    "papermill": {
     "duration": 0.034326,
     "end_time": "2022-08-03T17:57:20.899931",
     "exception": false,
     "start_time": "2022-08-03T17:57:20.865605",
     "status": "completed"
    },
    "tags": []
   },
   "outputs": [
    {
     "data": {
      "text/plain": [
       "PassengerId      0\n",
       "Pclass           0\n",
       "Name             0\n",
       "Sex              0\n",
       "Age              0\n",
       "SibSp            0\n",
       "Parch            0\n",
       "Ticket           0\n",
       "Fare             0\n",
       "Cabin          327\n",
       "Embarked         0\n",
       "C                0\n",
       "Q                0\n",
       "S                0\n",
       "female           0\n",
       "male             0\n",
       "dtype: int64"
      ]
     },
     "execution_count": 38,
     "metadata": {},
     "output_type": "execute_result"
    }
   ],
   "source": [
    "test_df['Age']=test_df['Age'].interpolate()\n",
    "test_df['Fare'].fillna(test_df['Fare'].mean(),inplace=True)\n",
    "test_df.isna().sum()"
   ]
  },
  {
   "cell_type": "code",
   "execution_count": 39,
   "id": "3a6fa1c8",
   "metadata": {
    "execution": {
     "iopub.execute_input": "2022-08-03T17:57:20.939170Z",
     "iopub.status.busy": "2022-08-03T17:57:20.938376Z",
     "iopub.status.idle": "2022-08-03T17:57:20.947045Z",
     "shell.execute_reply": "2022-08-03T17:57:20.946102Z"
    },
    "papermill": {
     "duration": 0.031024,
     "end_time": "2022-08-03T17:57:20.949313",
     "exception": false,
     "start_time": "2022-08-03T17:57:20.918289",
     "status": "completed"
    },
    "tags": []
   },
   "outputs": [],
   "source": [
    "predictions=lr.predict(test_df[req_colm])"
   ]
  },
  {
   "cell_type": "code",
   "execution_count": 40,
   "id": "e0ad1cb6",
   "metadata": {
    "execution": {
     "iopub.execute_input": "2022-08-03T17:57:20.987964Z",
     "iopub.status.busy": "2022-08-03T17:57:20.987207Z",
     "iopub.status.idle": "2022-08-03T17:57:20.999798Z",
     "shell.execute_reply": "2022-08-03T17:57:20.998992Z"
    },
    "papermill": {
     "duration": 0.034469,
     "end_time": "2022-08-03T17:57:21.002055",
     "exception": false,
     "start_time": "2022-08-03T17:57:20.967586",
     "status": "completed"
    },
    "tags": []
   },
   "outputs": [
    {
     "data": {
      "text/html": [
       "<div>\n",
       "<style scoped>\n",
       "    .dataframe tbody tr th:only-of-type {\n",
       "        vertical-align: middle;\n",
       "    }\n",
       "\n",
       "    .dataframe tbody tr th {\n",
       "        vertical-align: top;\n",
       "    }\n",
       "\n",
       "    .dataframe thead th {\n",
       "        text-align: right;\n",
       "    }\n",
       "</style>\n",
       "<table border=\"1\" class=\"dataframe\">\n",
       "  <thead>\n",
       "    <tr style=\"text-align: right;\">\n",
       "      <th></th>\n",
       "      <th>PassengerId</th>\n",
       "      <th>Survived</th>\n",
       "    </tr>\n",
       "  </thead>\n",
       "  <tbody>\n",
       "    <tr>\n",
       "      <th>0</th>\n",
       "      <td>892</td>\n",
       "      <td>0</td>\n",
       "    </tr>\n",
       "    <tr>\n",
       "      <th>1</th>\n",
       "      <td>893</td>\n",
       "      <td>0</td>\n",
       "    </tr>\n",
       "    <tr>\n",
       "      <th>2</th>\n",
       "      <td>894</td>\n",
       "      <td>0</td>\n",
       "    </tr>\n",
       "    <tr>\n",
       "      <th>3</th>\n",
       "      <td>895</td>\n",
       "      <td>0</td>\n",
       "    </tr>\n",
       "    <tr>\n",
       "      <th>4</th>\n",
       "      <td>896</td>\n",
       "      <td>0</td>\n",
       "    </tr>\n",
       "  </tbody>\n",
       "</table>\n",
       "</div>"
      ],
      "text/plain": [
       "   PassengerId  Survived\n",
       "0          892         0\n",
       "1          893         0\n",
       "2          894         0\n",
       "3          895         0\n",
       "4          896         0"
      ]
     },
     "execution_count": 40,
     "metadata": {},
     "output_type": "execute_result"
    }
   ],
   "source": [
    "submission = pd.DataFrame()\n",
    "submission['PassengerId'] = test_df['PassengerId']\n",
    "submission['Survived'] =predictions\n",
    "submission.head()"
   ]
  },
  {
   "cell_type": "code",
   "execution_count": 41,
   "id": "19e41ff4",
   "metadata": {
    "execution": {
     "iopub.execute_input": "2022-08-03T17:57:21.042642Z",
     "iopub.status.busy": "2022-08-03T17:57:21.041884Z",
     "iopub.status.idle": "2022-08-03T17:57:21.050184Z",
     "shell.execute_reply": "2022-08-03T17:57:21.049406Z"
    },
    "papermill": {
     "duration": 0.030945,
     "end_time": "2022-08-03T17:57:21.052554",
     "exception": false,
     "start_time": "2022-08-03T17:57:21.021609",
     "status": "completed"
    },
    "tags": []
   },
   "outputs": [],
   "source": [
    "submission.to_csv('submission.csv', index=False)"
   ]
  },
  {
   "cell_type": "code",
   "execution_count": null,
   "id": "5593bf12",
   "metadata": {
    "papermill": {
     "duration": 0.01804,
     "end_time": "2022-08-03T17:57:21.089139",
     "exception": false,
     "start_time": "2022-08-03T17:57:21.071099",
     "status": "completed"
    },
    "tags": []
   },
   "outputs": [],
   "source": []
  }
 ],
 "metadata": {
  "kernelspec": {
   "display_name": "Python 3",
   "language": "python",
   "name": "python3"
  },
  "language_info": {
   "codemirror_mode": {
    "name": "ipython",
    "version": 3
   },
   "file_extension": ".py",
   "mimetype": "text/x-python",
   "name": "python",
   "nbconvert_exporter": "python",
   "pygments_lexer": "ipython3",
   "version": "3.7.12"
  },
  "papermill": {
   "default_parameters": {},
   "duration": 16.908178,
   "end_time": "2022-08-03T17:57:22.030754",
   "environment_variables": {},
   "exception": null,
   "input_path": "__notebook__.ipynb",
   "output_path": "__notebook__.ipynb",
   "parameters": {},
   "start_time": "2022-08-03T17:57:05.122576",
   "version": "2.3.4"
  }
 },
 "nbformat": 4,
 "nbformat_minor": 5
}
